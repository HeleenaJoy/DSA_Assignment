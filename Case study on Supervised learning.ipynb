{
 "cells": [
  {
   "cell_type": "code",
   "execution_count": 1,
   "id": "8ff22e2a",
   "metadata": {},
   "outputs": [],
   "source": [
    "import pandas as pd\n",
    "import numpy as np\n",
    "import seaborn as sns\n",
    "import matplotlib.pyplot as plt"
   ]
  },
  {
   "cell_type": "markdown",
   "id": "931f00ac",
   "metadata": {},
   "source": [
    "# 1. Read the dataset to the python environment."
   ]
  },
  {
   "cell_type": "code",
   "execution_count": 2,
   "id": "ef9612e6",
   "metadata": {},
   "outputs": [],
   "source": [
    "#read excel data\n",
    "data = pd.read_excel(r\"C:\\Users\\user\\Downloads\\iris.xls\")"
   ]
  },
  {
   "cell_type": "code",
   "execution_count": 3,
   "id": "1bb29f2c",
   "metadata": {},
   "outputs": [
    {
     "data": {
      "text/html": [
       "<div>\n",
       "<style scoped>\n",
       "    .dataframe tbody tr th:only-of-type {\n",
       "        vertical-align: middle;\n",
       "    }\n",
       "\n",
       "    .dataframe tbody tr th {\n",
       "        vertical-align: top;\n",
       "    }\n",
       "\n",
       "    .dataframe thead th {\n",
       "        text-align: right;\n",
       "    }\n",
       "</style>\n",
       "<table border=\"1\" class=\"dataframe\">\n",
       "  <thead>\n",
       "    <tr style=\"text-align: right;\">\n",
       "      <th></th>\n",
       "      <th>SL</th>\n",
       "      <th>SW</th>\n",
       "      <th>PL</th>\n",
       "      <th>PW</th>\n",
       "      <th>Classification</th>\n",
       "    </tr>\n",
       "  </thead>\n",
       "  <tbody>\n",
       "    <tr>\n",
       "      <th>0</th>\n",
       "      <td>5.1</td>\n",
       "      <td>3.5</td>\n",
       "      <td>1.4</td>\n",
       "      <td>0.2</td>\n",
       "      <td>Iris-setosa</td>\n",
       "    </tr>\n",
       "    <tr>\n",
       "      <th>1</th>\n",
       "      <td>4.9</td>\n",
       "      <td>3.0</td>\n",
       "      <td>1.4</td>\n",
       "      <td>0.2</td>\n",
       "      <td>Iris-setosa</td>\n",
       "    </tr>\n",
       "    <tr>\n",
       "      <th>2</th>\n",
       "      <td>NaN</td>\n",
       "      <td>3.2</td>\n",
       "      <td>1.3</td>\n",
       "      <td>0.2</td>\n",
       "      <td>Iris-setosa</td>\n",
       "    </tr>\n",
       "    <tr>\n",
       "      <th>3</th>\n",
       "      <td>4.6</td>\n",
       "      <td>3.1</td>\n",
       "      <td>1.5</td>\n",
       "      <td>0.2</td>\n",
       "      <td>Iris-setosa</td>\n",
       "    </tr>\n",
       "    <tr>\n",
       "      <th>4</th>\n",
       "      <td>5.0</td>\n",
       "      <td>3.6</td>\n",
       "      <td>1.4</td>\n",
       "      <td>0.2</td>\n",
       "      <td>Iris-setosa</td>\n",
       "    </tr>\n",
       "  </tbody>\n",
       "</table>\n",
       "</div>"
      ],
      "text/plain": [
       "    SL   SW   PL   PW Classification\n",
       "0  5.1  3.5  1.4  0.2    Iris-setosa\n",
       "1  4.9  3.0  1.4  0.2    Iris-setosa\n",
       "2  NaN  3.2  1.3  0.2    Iris-setosa\n",
       "3  4.6  3.1  1.5  0.2    Iris-setosa\n",
       "4  5.0  3.6  1.4  0.2    Iris-setosa"
      ]
     },
     "execution_count": 3,
     "metadata": {},
     "output_type": "execute_result"
    }
   ],
   "source": [
    "data.head()"
   ]
  },
  {
   "cell_type": "markdown",
   "id": "55afe866",
   "metadata": {},
   "source": [
    "# 2. Do necessary pre-processing steps."
   ]
  },
  {
   "cell_type": "code",
   "execution_count": 4,
   "id": "8d34caa3",
   "metadata": {},
   "outputs": [
    {
     "data": {
      "text/plain": [
       "SL                7\n",
       "SW                6\n",
       "PL                6\n",
       "PW                0\n",
       "Classification    0\n",
       "dtype: int64"
      ]
     },
     "execution_count": 4,
     "metadata": {},
     "output_type": "execute_result"
    }
   ],
   "source": [
    "data.isna().sum()"
   ]
  },
  {
   "cell_type": "code",
   "execution_count": 5,
   "id": "685eb7e7",
   "metadata": {},
   "outputs": [
    {
     "name": "stdout",
     "output_type": "stream",
     "text": [
      "<class 'pandas.core.frame.DataFrame'>\n",
      "RangeIndex: 150 entries, 0 to 149\n",
      "Data columns (total 5 columns):\n",
      " #   Column          Non-Null Count  Dtype  \n",
      "---  ------          --------------  -----  \n",
      " 0   SL              143 non-null    float64\n",
      " 1   SW              144 non-null    float64\n",
      " 2   PL              144 non-null    float64\n",
      " 3   PW              150 non-null    float64\n",
      " 4   Classification  150 non-null    object \n",
      "dtypes: float64(4), object(1)\n",
      "memory usage: 6.0+ KB\n"
     ]
    }
   ],
   "source": [
    "data.info()"
   ]
  },
  {
   "cell_type": "code",
   "execution_count": 6,
   "id": "ea70df85",
   "metadata": {},
   "outputs": [
    {
     "data": {
      "text/plain": [
       "(150, 5)"
      ]
     },
     "execution_count": 6,
     "metadata": {},
     "output_type": "execute_result"
    }
   ],
   "source": [
    "data.shape"
   ]
  },
  {
   "cell_type": "code",
   "execution_count": 7,
   "id": "1b43b225",
   "metadata": {},
   "outputs": [
    {
     "data": {
      "image/png": "[encoded data removed]",
      "text/plain": [
       "<Figure size 720x432 with 1 Axes>"
      ]
     },
     "metadata": {
      "needs_background": "light"
     },
     "output_type": "display_data"
    }
   ],
   "source": [
    "#plot SL\n",
    "freqgraph = data['SL']\n",
    "freqgraph.hist(figsize=(10,6))\n",
    "plt.show()"
   ]
  },
  {
   "cell_type": "code",
   "execution_count": 8,
   "id": "5a888d94",
   "metadata": {},
   "outputs": [
    {
     "data": {
      "text/plain": [
       "SL                0\n",
       "SW                6\n",
       "PL                6\n",
       "PW                0\n",
       "Classification    0\n",
       "dtype: int64"
      ]
     },
     "execution_count": 8,
     "metadata": {},
     "output_type": "execute_result"
    }
   ],
   "source": [
    "data['SL']=data['SL'].fillna(data['SL'].median())\n",
    "data.isna().sum()"
   ]
  },
  {
   "cell_type": "code",
   "execution_count": 9,
   "id": "16a3f6ae",
   "metadata": {},
   "outputs": [
    {
     "data": {
      "image/png": "[encoded data removed]",
      "text/plain": [
       "<Figure size 720x432 with 1 Axes>"
      ]
     },
     "metadata": {
      "needs_background": "light"
     },
     "output_type": "display_data"
    }
   ],
   "source": [
    "#plot SW\n",
    "freqgraph = data['SW']\n",
    "freqgraph.hist(figsize=(10,6))\n",
    "plt.show()"
   ]
  },
  {
   "cell_type": "code",
   "execution_count": 10,
   "id": "6bf51540",
   "metadata": {},
   "outputs": [
    {
     "data": {
      "text/plain": [
       "SL                0\n",
       "SW                0\n",
       "PL                6\n",
       "PW                0\n",
       "Classification    0\n",
       "dtype: int64"
      ]
     },
     "execution_count": 10,
     "metadata": {},
     "output_type": "execute_result"
    }
   ],
   "source": [
    "data['SW']=data['SW'].fillna(data['SW'].median())\n",
    "data.isna().sum()"
   ]
  },
  {
   "cell_type": "code",
   "execution_count": 11,
   "id": "b75cbe24",
   "metadata": {},
   "outputs": [
    {
     "data": {
      "image/png": "[encoded data removed]",
      "text/plain": [
       "<Figure size 720x432 with 1 Axes>"
      ]
     },
     "metadata": {
      "needs_background": "light"
     },
     "output_type": "display_data"
    }
   ],
   "source": [
    "#plot PL\n",
    "freqgraph = data['PL']\n",
    "freqgraph.hist(figsize=(10,6))\n",
    "plt.show()"
   ]
  },
  {
   "cell_type": "code",
   "execution_count": 12,
   "id": "2bf7995b",
   "metadata": {},
   "outputs": [
    {
     "data": {
      "text/plain": [
       "SL                0\n",
       "SW                0\n",
       "PL                0\n",
       "PW                0\n",
       "Classification    0\n",
       "dtype: int64"
      ]
     },
     "execution_count": 12,
     "metadata": {},
     "output_type": "execute_result"
    }
   ],
   "source": [
    "data['PL']=data['PL'].fillna(data['PL'].median())\n",
    "data.isna().sum()"
   ]
  },
  {
   "cell_type": "code",
   "execution_count": 13,
   "id": "26430047",
   "metadata": {},
   "outputs": [],
   "source": [
    "#find outliers by plotting box plot"
   ]
  },
  {
   "cell_type": "code",
   "execution_count": 14,
   "id": "c72badef",
   "metadata": {},
   "outputs": [
    {
     "data": {
      "text/plain": [
       "{'whiskers': [<matplotlib.lines.Line2D at 0x14e2e7fa850>,\n",
       "  <matplotlib.lines.Line2D at 0x14e2e7fabb0>],\n",
       " 'caps': [<matplotlib.lines.Line2D at 0x14e2e7faf10>,\n",
       "  <matplotlib.lines.Line2D at 0x14e2e80b2b0>],\n",
       " 'boxes': [<matplotlib.lines.Line2D at 0x14e2e7fa550>],\n",
       " 'medians': [<matplotlib.lines.Line2D at 0x14e2e80b610>],\n",
       " 'fliers': [<matplotlib.lines.Line2D at 0x14e2e80b970>],\n",
       " 'means': []}"
      ]
     },
     "execution_count": 14,
     "metadata": {},
     "output_type": "execute_result"
    },
    {
     "data": {
      "image/png": "[encoded data removed]",
      "text/plain": [
       "<Figure size 432x288 with 1 Axes>"
      ]
     },
     "metadata": {
      "needs_background": "light"
     },
     "output_type": "display_data"
    }
   ],
   "source": [
    "plt.boxplot(data[\"SL\"])"
   ]
  },
  {
   "cell_type": "code",
   "execution_count": 15,
   "id": "5cdba9c9",
   "metadata": {},
   "outputs": [
    {
     "data": {
      "text/plain": [
       "{'whiskers': [<matplotlib.lines.Line2D at 0x14e2f8b39d0>,\n",
       "  <matplotlib.lines.Line2D at 0x14e2f8b3d30>],\n",
       " 'caps': [<matplotlib.lines.Line2D at 0x14e2f8be0d0>,\n",
       "  <matplotlib.lines.Line2D at 0x14e2f8be430>],\n",
       " 'boxes': [<matplotlib.lines.Line2D at 0x14e2f8b36d0>],\n",
       " 'medians': [<matplotlib.lines.Line2D at 0x14e2f8be790>],\n",
       " 'fliers': [<matplotlib.lines.Line2D at 0x14e2f8beaf0>],\n",
       " 'means': []}"
      ]
     },
     "execution_count": 15,
     "metadata": {},
     "output_type": "execute_result"
    },
    {
     "data": {
      "image/png": "[encoded data removed]",
      "text/plain": [
       "<Figure size 432x288 with 1 Axes>"
      ]
     },
     "metadata": {
      "needs_background": "light"
     },
     "output_type": "display_data"
    }
   ],
   "source": [
    "plt.boxplot(data[\"SW\"])"
   ]
  },
  {
   "cell_type": "code",
   "execution_count": 16,
   "id": "03f33303",
   "metadata": {},
   "outputs": [
    {
     "data": {
      "text/plain": [
       "{'whiskers': [<matplotlib.lines.Line2D at 0x14e2f918070>,\n",
       "  <matplotlib.lines.Line2D at 0x14e2f9183d0>],\n",
       " 'caps': [<matplotlib.lines.Line2D at 0x14e2f918730>,\n",
       "  <matplotlib.lines.Line2D at 0x14e2f918a90>],\n",
       " 'boxes': [<matplotlib.lines.Line2D at 0x14e2f90acd0>],\n",
       " 'medians': [<matplotlib.lines.Line2D at 0x14e2f918df0>],\n",
       " 'fliers': [<matplotlib.lines.Line2D at 0x14e2f926190>],\n",
       " 'means': []}"
      ]
     },
     "execution_count": 16,
     "metadata": {},
     "output_type": "execute_result"
    },
    {
     "data": {
      "image/png": "[encoded data removed]",
      "text/plain": [
       "<Figure size 432x288 with 1 Axes>"
      ]
     },
     "metadata": {
      "needs_background": "light"
     },
     "output_type": "display_data"
    }
   ],
   "source": [
    "plt.boxplot(data[\"PL\"])"
   ]
  },
  {
   "cell_type": "code",
   "execution_count": 17,
   "id": "b43459fc",
   "metadata": {},
   "outputs": [
    {
     "data": {
      "text/plain": [
       "{'whiskers': [<matplotlib.lines.Line2D at 0x14e2f96cc10>,\n",
       "  <matplotlib.lines.Line2D at 0x14e2f96cf70>],\n",
       " 'caps': [<matplotlib.lines.Line2D at 0x14e2f97a310>,\n",
       "  <matplotlib.lines.Line2D at 0x14e2f97a670>],\n",
       " 'boxes': [<matplotlib.lines.Line2D at 0x14e2f96c910>],\n",
       " 'medians': [<matplotlib.lines.Line2D at 0x14e2f97a9d0>],\n",
       " 'fliers': [<matplotlib.lines.Line2D at 0x14e2f97ad60>],\n",
       " 'means': []}"
      ]
     },
     "execution_count": 17,
     "metadata": {},
     "output_type": "execute_result"
    },
    {
     "data": {
      "image/png": "[encoded data removed]",
      "text/plain": [
       "<Figure size 432x288 with 1 Axes>"
      ]
     },
     "metadata": {
      "needs_background": "light"
     },
     "output_type": "display_data"
    }
   ],
   "source": [
    "plt.boxplot(data[\"PW\"])"
   ]
  },
  {
   "cell_type": "code",
   "execution_count": 18,
   "id": "488d2f5b",
   "metadata": {},
   "outputs": [
    {
     "name": "stdout",
     "output_type": "stream",
     "text": [
      "Q1:  2.8 \n",
      "Q2:  3.0 \n",
      "Q3:  3.25\n"
     ]
    }
   ],
   "source": [
    "#find quartiles\n",
    "Q1 = np.percentile(data['SW'],25,interpolation='midpoint')\n",
    "Q2 = np.percentile(data['SW'],50,interpolation='midpoint')\n",
    "Q3 = np.percentile(data['SW'],75,interpolation='midpoint')\n",
    "print('Q1: ',Q1,'\\nQ2: ',Q2,'\\nQ3: ',Q3)"
   ]
  },
  {
   "cell_type": "code",
   "execution_count": 19,
   "id": "bb62e360",
   "metadata": {},
   "outputs": [
    {
     "name": "stdout",
     "output_type": "stream",
     "text": [
      "IQR:  0.4500000000000002\n"
     ]
    }
   ],
   "source": [
    "#find IQR\n",
    "IQR = Q3 - Q1\n",
    "print('IQR: ',IQR)"
   ]
  },
  {
   "cell_type": "code",
   "execution_count": 20,
   "id": "66d05bfe",
   "metadata": {},
   "outputs": [
    {
     "name": "stdout",
     "output_type": "stream",
     "text": [
      "Lower limit is :  2.1249999999999996\n",
      "Upper limit is :  3.9250000000000003\n"
     ]
    }
   ],
   "source": [
    "#find Upper and lower limits\n",
    "low_lmt = Q1-1.5*IQR\n",
    "upp_lmt= Q3+1.5*IQR\n",
    "print(\"Lower limit is : \",low_lmt)\n",
    "print(\"Upper limit is : \",upp_lmt)"
   ]
  },
  {
   "cell_type": "code",
   "execution_count": 21,
   "id": "3666b92d",
   "metadata": {},
   "outputs": [],
   "source": [
    "# outliers\n",
    "outliers = []\n",
    "for i in data['SW']:\n",
    "    if((i>upp_lmt)or(i<low_lmt)):\n",
    "      outliers.append(i)"
   ]
  },
  {
   "cell_type": "code",
   "execution_count": 22,
   "id": "639df063",
   "metadata": {},
   "outputs": [
    {
     "data": {
      "text/plain": [
       "Int64Index([60], dtype='int64')"
      ]
     },
     "execution_count": 22,
     "metadata": {},
     "output_type": "execute_result"
    }
   ],
   "source": [
    "#Outliers that are below lower limit\n",
    "ind_low = data['SW']<low_lmt\n",
    "index_low = data.loc[ind_low].index\n",
    "index_low"
   ]
  },
  {
   "cell_type": "code",
   "execution_count": 23,
   "id": "c45366fb",
   "metadata": {},
   "outputs": [
    {
     "data": {
      "text/plain": [
       "Int64Index([14, 15, 32, 33], dtype='int64')"
      ]
     },
     "execution_count": 23,
     "metadata": {},
     "output_type": "execute_result"
    }
   ],
   "source": [
    "#Outliers that are above upper limit\n",
    "ind_upp = data['SW']>upp_lmt\n",
    "index_upp = data.loc[ind_upp].index\n",
    "index_upp"
   ]
  },
  {
   "cell_type": "code",
   "execution_count": 24,
   "id": "12ef54c8",
   "metadata": {},
   "outputs": [],
   "source": [
    "#Drop the above indexes\n",
    "data.drop(index_low,inplace=True)\n",
    "data.drop(index_upp,inplace=True)"
   ]
  },
  {
   "cell_type": "code",
   "execution_count": 25,
   "id": "5700c2c6",
   "metadata": {},
   "outputs": [
    {
     "name": "stdout",
     "output_type": "stream",
     "text": [
      "<class 'pandas.core.frame.DataFrame'>\n",
      "Int64Index: 145 entries, 0 to 149\n",
      "Data columns (total 5 columns):\n",
      " #   Column          Non-Null Count  Dtype  \n",
      "---  ------          --------------  -----  \n",
      " 0   SL              145 non-null    float64\n",
      " 1   SW              145 non-null    float64\n",
      " 2   PL              145 non-null    float64\n",
      " 3   PW              145 non-null    float64\n",
      " 4   Classification  145 non-null    object \n",
      "dtypes: float64(4), object(1)\n",
      "memory usage: 6.8+ KB\n"
     ]
    }
   ],
   "source": [
    "data.info()"
   ]
  },
  {
   "cell_type": "code",
   "execution_count": 26,
   "id": "b9c01a16",
   "metadata": {},
   "outputs": [
    {
     "data": {
      "text/plain": [
       "{'whiskers': [<matplotlib.lines.Line2D at 0x14e2fa1c940>,\n",
       "  <matplotlib.lines.Line2D at 0x14e2fa1cca0>],\n",
       " 'caps': [<matplotlib.lines.Line2D at 0x14e2fa27040>,\n",
       "  <matplotlib.lines.Line2D at 0x14e2fa273a0>],\n",
       " 'boxes': [<matplotlib.lines.Line2D at 0x14e2fa1c5e0>],\n",
       " 'medians': [<matplotlib.lines.Line2D at 0x14e2fa27700>],\n",
       " 'fliers': [<matplotlib.lines.Line2D at 0x14e2fa27a60>],\n",
       " 'means': []}"
      ]
     },
     "execution_count": 26,
     "metadata": {},
     "output_type": "execute_result"
    },
    {
     "data": {
      "image/png": "[encoded data removed]",
      "text/plain": [
       "<Figure size 432x288 with 1 Axes>"
      ]
     },
     "metadata": {
      "needs_background": "light"
     },
     "output_type": "display_data"
    }
   ],
   "source": [
    "plt.boxplot(data[\"SW\"])"
   ]
  },
  {
   "cell_type": "markdown",
   "id": "eaa9b58e",
   "metadata": {},
   "source": [
    "# 3. Find out which classification model gives the best result to predict iris species.(also do random forest algorithm)"
   ]
  },
  {
   "cell_type": "code",
   "execution_count": 27,
   "id": "ae6c452a",
   "metadata": {},
   "outputs": [],
   "source": [
    "x = data.drop(['Classification'],axis=1)\n",
    "y = data['Classification']"
   ]
  },
  {
   "cell_type": "code",
   "execution_count": 28,
   "id": "89cd57c7",
   "metadata": {},
   "outputs": [],
   "source": [
    "from sklearn.model_selection import train_test_split\n",
    "x_train,x_test,y_train,y_test=train_test_split(x,y,random_state=42,test_size=0.2)"
   ]
  },
  {
   "cell_type": "markdown",
   "id": "ecd3beb9",
   "metadata": {},
   "source": [
    "Logistic regression"
   ]
  },
  {
   "cell_type": "code",
   "execution_count": 29,
   "id": "d041e6fe",
   "metadata": {},
   "outputs": [
    {
     "name": "stderr",
     "output_type": "stream",
     "text": [
      "C:\\Users\\user\\anaconda3\\lib\\site-packages\\sklearn\\linear_model\\_logistic.py:763: ConvergenceWarning: lbfgs failed to converge (status=1):\n",
      "STOP: TOTAL NO. of ITERATIONS REACHED LIMIT.\n",
      "\n",
      "Increase the number of iterations (max_iter) or scale the data as shown in:\n",
      "    https://scikit-learn.org/stable/modules/preprocessing.html\n",
      "Please also refer to the documentation for alternative solver options:\n",
      "    https://scikit-learn.org/stable/modules/linear_model.html#logistic-regression\n",
      "  n_iter_i = _check_optimize_result(\n"
     ]
    }
   ],
   "source": [
    "from sklearn.linear_model import LogisticRegression\n",
    "logistic_model = LogisticRegression()\n",
    "logistic_model.fit(x_train,y_train)\n",
    "y_pred = logistic_model.predict(x_test)"
   ]
  },
  {
   "cell_type": "code",
   "execution_count": 30,
   "id": "3f1ac6a3",
   "metadata": {},
   "outputs": [],
   "source": [
    "from sklearn.metrics import confusion_matrix ,accuracy_score , precision_score , f1_score"
   ]
  },
  {
   "cell_type": "code",
   "execution_count": 31,
   "id": "d891a1f9",
   "metadata": {},
   "outputs": [
    {
     "name": "stdout",
     "output_type": "stream",
     "text": [
      "accuracy : 0.9310344827586207\n",
      "precision score :  0.9310344827586207\n",
      "f1 score : 0.9310344827586207\n"
     ]
    }
   ],
   "source": [
    "print(\"accuracy :\" , accuracy_score(y_test , y_pred))\n",
    "print(\"precision score : \" , precision_score(y_test,y_pred , average=\"weighted\"))\n",
    "print(\"f1 score :\" ,f1_score(y_test ,y_pred ,average=\"weighted\"))"
   ]
  },
  {
   "cell_type": "code",
   "execution_count": 32,
   "id": "b0e3a65b",
   "metadata": {},
   "outputs": [
    {
     "data": {
      "text/plain": [
       "array([[ 9,  0,  0],\n",
       "       [ 0,  8,  1],\n",
       "       [ 0,  1, 10]], dtype=int64)"
      ]
     },
     "execution_count": 32,
     "metadata": {},
     "output_type": "execute_result"
    }
   ],
   "source": [
    "#finding confusion matrix\n",
    "confusion_matrix(y_test,y_pred)"
   ]
  },
  {
   "cell_type": "markdown",
   "id": "15fda607",
   "metadata": {},
   "source": [
    "KNN"
   ]
  },
  {
   "cell_type": "code",
   "execution_count": 33,
   "id": "95860944",
   "metadata": {},
   "outputs": [],
   "source": [
    "from sklearn.neighbors import KNeighborsClassifier"
   ]
  },
  {
   "cell_type": "code",
   "execution_count": 34,
   "id": "261efc89",
   "metadata": {},
   "outputs": [
    {
     "data": {
      "text/plain": [
       "[0.9310344827586207,\n",
       " 0.9310344827586207,\n",
       " 0.9310344827586207,\n",
       " 0.9310344827586207,\n",
       " 0.9310344827586207,\n",
       " 0.896551724137931,\n",
       " 0.9310344827586207,\n",
       " 0.9310344827586207,\n",
       " 0.9310344827586207,\n",
       " 0.9310344827586207,\n",
       " 0.9310344827586207,\n",
       " 0.8620689655172413]"
      ]
     },
     "execution_count": 34,
     "metadata": {},
     "output_type": "execute_result"
    }
   ],
   "source": [
    "acc_values = []\n",
    "neighbors = np.arange(3,15)\n",
    "for k in neighbors:\n",
    "    classifier = KNeighborsClassifier(n_neighbors= k,metric='minkowski')\n",
    "    classifier.fit(x_train,y_train)\n",
    "    y_predicted=classifier.predict(x_test)\n",
    "    acc=accuracy_score(y_test,y_predicted)\n",
    "    acc_values.append(acc)\n",
    "acc_values"
   ]
  },
  {
   "cell_type": "code",
   "execution_count": 35,
   "id": "27586046",
   "metadata": {},
   "outputs": [
    {
     "data": {
      "text/plain": [
       "Text(0, 0.5, 'accuracy')"
      ]
     },
     "execution_count": 35,
     "metadata": {},
     "output_type": "execute_result"
    },
    {
     "data": {
      "image/png": "[encoded data removed]",
      "text/plain": [
       "<Figure size 432x288 with 1 Axes>"
      ]
     },
     "metadata": {
      "needs_background": "light"
     },
     "output_type": "display_data"
    }
   ],
   "source": [
    "plt.plot(neighbors,acc_values,'o-')\n",
    "plt.xlabel('k value')\n",
    "plt.ylabel('accuracy')"
   ]
  },
  {
   "cell_type": "code",
   "execution_count": 36,
   "id": "b6631406",
   "metadata": {},
   "outputs": [],
   "source": [
    "#from above we can see max accuracy at k=4"
   ]
  },
  {
   "cell_type": "code",
   "execution_count": 37,
   "id": "7d751a42",
   "metadata": {},
   "outputs": [],
   "source": [
    "classifier = KNeighborsClassifier(n_neighbors= 4,metric='minkowski')\n",
    "classifier.fit(x_train,y_train)\n",
    "y_predicted=classifier.predict(x_test)"
   ]
  },
  {
   "cell_type": "code",
   "execution_count": 38,
   "id": "17bf53bf",
   "metadata": {},
   "outputs": [
    {
     "name": "stdout",
     "output_type": "stream",
     "text": [
      "accuracy : 0.9310344827586207\n",
      "precision score :  0.9310344827586207\n",
      "f1 score : 0.9310344827586207\n"
     ]
    }
   ],
   "source": [
    "print(\"accuracy :\" , accuracy_score(y_test , y_predicted))\n",
    "print(\"precision score : \" , precision_score(y_test,y_predicted , average=\"weighted\"))\n",
    "print(\"f1 score :\" ,f1_score(y_test ,y_predicted,average=\"weighted\"))"
   ]
  },
  {
   "cell_type": "code",
   "execution_count": null,
   "id": "e5ffa157",
   "metadata": {},
   "outputs": [],
   "source": []
  },
  {
   "cell_type": "markdown",
   "id": "6e4770ab",
   "metadata": {},
   "source": [
    "Random Forest"
   ]
  },
  {
   "cell_type": "code",
   "execution_count": 41,
   "id": "c8436f9a",
   "metadata": {},
   "outputs": [
    {
     "name": "stdout",
     "output_type": "stream",
     "text": [
      "accuracy : 0.896551724137931\n",
      "precision score :  0.9\n",
      "f1 score : 0.8968109929997409\n"
     ]
    }
   ],
   "source": [
    "from sklearn.ensemble import RandomForestClassifier\n",
    "rf = RandomForestClassifier()\n",
    "rf.fit(x_train,y_train)\n",
    "y_predicted_rf = rf.predict(x_test)\n",
    "print(\"accuracy :\" , accuracy_score(y_test , y_predicted_rf))\n",
    "print(\"precision score : \" , precision_score(y_test,y_predicted_rf , average=\"weighted\"))\n",
    "print(\"f1 score :\" ,f1_score(y_test ,y_predicted_rf ,average=\"weighted\"))"
   ]
  },
  {
   "cell_type": "markdown",
   "id": "0fb7782c",
   "metadata": {},
   "source": [
    "SVM"
   ]
  },
  {
   "cell_type": "code",
   "execution_count": 43,
   "id": "dd559f1a",
   "metadata": {},
   "outputs": [
    {
     "name": "stdout",
     "output_type": "stream",
     "text": [
      "accuracy : 0.896551724137931\n",
      "precision score :  0.9\n",
      "f1 score : 0.8968109929997409\n"
     ]
    }
   ],
   "source": [
    "from sklearn.svm import SVC\n",
    "svm_linear = SVC(kernel =\"linear\")\n",
    "svm_linear.fit(x_train,y_train)\n",
    "y_predict_svm = svm_linear.predict(x_test)\n",
    "\n",
    "print(\"accuracy :\" , accuracy_score(y_test , y_predict_svm))\n",
    "print(\"precision score : \" , precision_score(y_test,y_predict_svm, average=\"weighted\"))\n",
    "print(\"f1 score :\" ,f1_score(y_test ,y_predict_svm ,average=\"weighted\"))"
   ]
  },
  {
   "cell_type": "markdown",
   "id": "c4aceae2",
   "metadata": {},
   "source": [
    "Logistic regression model and knn model is having max accuracy"
   ]
  },
  {
   "cell_type": "code",
   "execution_count": null,
   "id": "b563f6d4",
   "metadata": {},
   "outputs": [],
   "source": []
  }
 ],
 "metadata": {
  "kernelspec": {
   "display_name": "Python 3",
   "language": "python",
   "name": "python3"
  },
  "language_info": {
   "codemirror_mode": {
    "name": "ipython",
    "version": 3
   },
   "file_extension": ".py",
   "mimetype": "text/x-python",
   "name": "python",
   "nbconvert_exporter": "python",
   "pygments_lexer": "ipython3",
   "version": "3.8.8"
  }
 },
 "nbformat": 4,
 "nbformat_minor": 5
}
