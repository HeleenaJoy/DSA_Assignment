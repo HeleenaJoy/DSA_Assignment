{
 "cells": [
  {
   "cell_type": "code",
   "execution_count": 23,
   "id": "727465d4",
   "metadata": {},
   "outputs": [],
   "source": [
    "import pandas as pd\n",
    "import statistics as st"
   ]
  },
  {
   "cell_type": "code",
   "execution_count": 2,
   "id": "ca671302",
   "metadata": {},
   "outputs": [],
   "source": [
    "data = pd.read_csv('C:/Users/user/Downloads/StudentsPerformance.csv')"
   ]
  },
  {
   "cell_type": "code",
   "execution_count": null,
   "id": "3bd8f10e",
   "metadata": {},
   "outputs": [],
   "source": [
    "#Reading data from csv file"
   ]
  },
  {
   "cell_type": "markdown",
   "id": "27fde9a3",
   "metadata": {},
   "source": [
    "# 1. Find out how many males and females participated in the test."
   ]
  },
  {
   "cell_type": "code",
   "execution_count": 7,
   "id": "fba26c38",
   "metadata": {},
   "outputs": [
    {
     "data": {
      "text/plain": [
       "gender\n",
       "female    518\n",
       "male      482\n",
       "Name: gender, dtype: int64"
      ]
     },
     "execution_count": 7,
     "metadata": {},
     "output_type": "execute_result"
    }
   ],
   "source": [
    "data.groupby('gender')['gender'].count()"
   ]
  },
  {
   "cell_type": "code",
   "execution_count": null,
   "id": "d5613156",
   "metadata": {},
   "outputs": [],
   "source": [
    "# Group By gender and finding the count of male and female in dataset"
   ]
  },
  {
   "cell_type": "markdown",
   "id": "67ac11a6",
   "metadata": {},
   "source": [
    "# 2. What do you think about the students' parental level of education?"
   ]
  },
  {
   "cell_type": "code",
   "execution_count": 8,
   "id": "b2d9ff6b",
   "metadata": {},
   "outputs": [
    {
     "data": {
      "text/plain": [
       "parental level of education\n",
       "associate's degree    222\n",
       "bachelor's degree     118\n",
       "high school           196\n",
       "master's degree        59\n",
       "some college          226\n",
       "some high school      179\n",
       "Name: parental level of education, dtype: int64"
      ]
     },
     "execution_count": 8,
     "metadata": {},
     "output_type": "execute_result"
    }
   ],
   "source": [
    "data.groupby('parental level of education')['parental level of education'].count()"
   ]
  },
  {
   "cell_type": "code",
   "execution_count": null,
   "id": "0f5cf291",
   "metadata": {},
   "outputs": [],
   "source": [
    "#Grouping By parental level of education and getting its count"
   ]
  },
  {
   "cell_type": "code",
   "execution_count": 27,
   "id": "24d6f7f5",
   "metadata": {},
   "outputs": [
    {
     "data": {
      "text/plain": [
       "'some college'"
      ]
     },
     "execution_count": 27,
     "metadata": {},
     "output_type": "execute_result"
    }
   ],
   "source": [
    "d1 = data['parental level of education']\n",
    "st.mode(d1)"
   ]
  },
  {
   "cell_type": "markdown",
   "id": "29cd8c3d",
   "metadata": {},
   "source": [
    "Most frequently occuring parental level of education is \"Some college\""
   ]
  },
  {
   "cell_type": "markdown",
   "id": "bfedf1cd",
   "metadata": {},
   "source": [
    "# 3. Who scores the most on average for math, reading and writing based on"
   ]
  },
  {
   "cell_type": "markdown",
   "id": "415913aa",
   "metadata": {},
   "source": [
    "# a. Gender"
   ]
  },
  {
   "cell_type": "code",
   "execution_count": 44,
   "id": "135455bb",
   "metadata": {},
   "outputs": [
    {
     "name": "stderr",
     "output_type": "stream",
     "text": [
      "<ipython-input-44-4fb7320ef13f>:1: FutureWarning: Indexing with multiple keys (implicitly converted to a tuple of keys) will be deprecated, use a list instead.\n",
      "  data_gender = data.groupby('gender')['math score','reading score','writing score'].mean()\n"
     ]
    },
    {
     "data": {
      "text/plain": [
       "math score         male\n",
       "reading score    female\n",
       "writing score    female\n",
       "dtype: object"
      ]
     },
     "execution_count": 44,
     "metadata": {},
     "output_type": "execute_result"
    }
   ],
   "source": [
    "data_gender = data.groupby('gender')['math score','reading score','writing score'].mean()\n",
    "data_gender.idxmax()"
   ]
  },
  {
   "cell_type": "code",
   "execution_count": null,
   "id": "6f5f39e9",
   "metadata": {},
   "outputs": [],
   "source": [
    "#Grouping by gender and finding mean of math,reading,writing scores"
   ]
  },
  {
   "cell_type": "markdown",
   "id": "5173151f",
   "metadata": {},
   "source": [
    "Male scored the most for math,female scored the most for reading and writing score"
   ]
  },
  {
   "cell_type": "markdown",
   "id": "30a3c726",
   "metadata": {},
   "source": [
    "# b. Test preparation course"
   ]
  },
  {
   "cell_type": "code",
   "execution_count": 45,
   "id": "2213250e",
   "metadata": {},
   "outputs": [
    {
     "name": "stderr",
     "output_type": "stream",
     "text": [
      "<ipython-input-45-a799d7b3d3b4>:1: FutureWarning: Indexing with multiple keys (implicitly converted to a tuple of keys) will be deprecated, use a list instead.\n",
      "  data_test =  data.groupby('test preparation course')['math score','reading score','writing score'].mean()\n"
     ]
    },
    {
     "data": {
      "text/plain": [
       "math score       completed\n",
       "reading score    completed\n",
       "writing score    completed\n",
       "dtype: object"
      ]
     },
     "execution_count": 45,
     "metadata": {},
     "output_type": "execute_result"
    }
   ],
   "source": [
    "data_test =  data.groupby('test preparation course')['math score','reading score','writing score'].mean()\n",
    "data_test.idxmax()"
   ]
  },
  {
   "cell_type": "code",
   "execution_count": 49,
   "id": "0bd6afd3",
   "metadata": {},
   "outputs": [
    {
     "data": {
      "text/html": [
       "<div>\n",
       "<style scoped>\n",
       "    .dataframe tbody tr th:only-of-type {\n",
       "        vertical-align: middle;\n",
       "    }\n",
       "\n",
       "    .dataframe tbody tr th {\n",
       "        vertical-align: top;\n",
       "    }\n",
       "\n",
       "    .dataframe thead th {\n",
       "        text-align: right;\n",
       "    }\n",
       "</style>\n",
       "<table border=\"1\" class=\"dataframe\">\n",
       "  <thead>\n",
       "    <tr style=\"text-align: right;\">\n",
       "      <th></th>\n",
       "      <th>math score</th>\n",
       "      <th>reading score</th>\n",
       "      <th>writing score</th>\n",
       "    </tr>\n",
       "    <tr>\n",
       "      <th>test preparation course</th>\n",
       "      <th></th>\n",
       "      <th></th>\n",
       "      <th></th>\n",
       "    </tr>\n",
       "  </thead>\n",
       "  <tbody>\n",
       "    <tr>\n",
       "      <th>completed</th>\n",
       "      <td>69.96648</td>\n",
       "      <td>74.175978</td>\n",
       "      <td>74.684358</td>\n",
       "    </tr>\n",
       "    <tr>\n",
       "      <th>none</th>\n",
       "      <td>63.78972</td>\n",
       "      <td>66.417445</td>\n",
       "      <td>64.457944</td>\n",
       "    </tr>\n",
       "  </tbody>\n",
       "</table>\n",
       "</div>"
      ],
      "text/plain": [
       "                         math score  reading score  writing score\n",
       "test preparation course                                          \n",
       "completed                  69.96648      74.175978      74.684358\n",
       "none                       63.78972      66.417445      64.457944"
      ]
     },
     "execution_count": 49,
     "metadata": {},
     "output_type": "execute_result"
    }
   ],
   "source": [
    "data_test"
   ]
  },
  {
   "cell_type": "markdown",
   "id": "79eda8e8",
   "metadata": {},
   "source": [
    "people who Completed  test preparation course scored the most"
   ]
  },
  {
   "cell_type": "markdown",
   "id": "2f12c296",
   "metadata": {},
   "source": [
    "# 4. What do you think about the scoring variation for math, reading and writing based on"
   ]
  },
  {
   "cell_type": "markdown",
   "id": "fe0df08f",
   "metadata": {},
   "source": [
    "# a.Gender"
   ]
  },
  {
   "cell_type": "code",
   "execution_count": 48,
   "id": "5845b3cd",
   "metadata": {},
   "outputs": [
    {
     "name": "stderr",
     "output_type": "stream",
     "text": [
      "<ipython-input-48-0d4620685d3e>:1: FutureWarning: Indexing with multiple keys (implicitly converted to a tuple of keys) will be deprecated, use a list instead.\n",
      "  data_gender_std = data.groupby('gender')['math score','reading score','writing score'].std()\n"
     ]
    },
    {
     "data": {
      "text/html": [
       "<div>\n",
       "<style scoped>\n",
       "    .dataframe tbody tr th:only-of-type {\n",
       "        vertical-align: middle;\n",
       "    }\n",
       "\n",
       "    .dataframe tbody tr th {\n",
       "        vertical-align: top;\n",
       "    }\n",
       "\n",
       "    .dataframe thead th {\n",
       "        text-align: right;\n",
       "    }\n",
       "</style>\n",
       "<table border=\"1\" class=\"dataframe\">\n",
       "  <thead>\n",
       "    <tr style=\"text-align: right;\">\n",
       "      <th></th>\n",
       "      <th>math score</th>\n",
       "      <th>reading score</th>\n",
       "      <th>writing score</th>\n",
       "    </tr>\n",
       "    <tr>\n",
       "      <th>gender</th>\n",
       "      <th></th>\n",
       "      <th></th>\n",
       "      <th></th>\n",
       "    </tr>\n",
       "  </thead>\n",
       "  <tbody>\n",
       "    <tr>\n",
       "      <th>female</th>\n",
       "      <td>16.029928</td>\n",
       "      <td>14.411018</td>\n",
       "      <td>14.844842</td>\n",
       "    </tr>\n",
       "    <tr>\n",
       "      <th>male</th>\n",
       "      <td>14.556411</td>\n",
       "      <td>14.149594</td>\n",
       "      <td>14.227225</td>\n",
       "    </tr>\n",
       "  </tbody>\n",
       "</table>\n",
       "</div>"
      ],
      "text/plain": [
       "        math score  reading score  writing score\n",
       "gender                                          \n",
       "female   16.029928      14.411018      14.844842\n",
       "male     14.556411      14.149594      14.227225"
      ]
     },
     "execution_count": 48,
     "metadata": {},
     "output_type": "execute_result"
    }
   ],
   "source": [
    "data_gender_std = data.groupby('gender')['math score','reading score','writing score'].std()\n",
    "data_gender_std"
   ]
  },
  {
   "cell_type": "markdown",
   "id": "1c8b8abf",
   "metadata": {},
   "source": [
    "Standard deviation is more for female in all the 3 subjects"
   ]
  },
  {
   "cell_type": "markdown",
   "id": "4246d7a6",
   "metadata": {},
   "source": [
    "# b. Test preparation course"
   ]
  },
  {
   "cell_type": "code",
   "execution_count": 51,
   "id": "1fda4757",
   "metadata": {},
   "outputs": [
    {
     "name": "stderr",
     "output_type": "stream",
     "text": [
      "<ipython-input-51-1950611596b2>:1: FutureWarning: Indexing with multiple keys (implicitly converted to a tuple of keys) will be deprecated, use a list instead.\n",
      "  data_test_std =  data.groupby('test preparation course')['math score','reading score','writing score'].std()\n"
     ]
    },
    {
     "data": {
      "text/html": [
       "<div>\n",
       "<style scoped>\n",
       "    .dataframe tbody tr th:only-of-type {\n",
       "        vertical-align: middle;\n",
       "    }\n",
       "\n",
       "    .dataframe tbody tr th {\n",
       "        vertical-align: top;\n",
       "    }\n",
       "\n",
       "    .dataframe thead th {\n",
       "        text-align: right;\n",
       "    }\n",
       "</style>\n",
       "<table border=\"1\" class=\"dataframe\">\n",
       "  <thead>\n",
       "    <tr style=\"text-align: right;\">\n",
       "      <th></th>\n",
       "      <th>math score</th>\n",
       "      <th>reading score</th>\n",
       "      <th>writing score</th>\n",
       "    </tr>\n",
       "    <tr>\n",
       "      <th>test preparation course</th>\n",
       "      <th></th>\n",
       "      <th></th>\n",
       "      <th></th>\n",
       "    </tr>\n",
       "  </thead>\n",
       "  <tbody>\n",
       "    <tr>\n",
       "      <th>completed</th>\n",
       "      <td>14.521847</td>\n",
       "      <td>13.537572</td>\n",
       "      <td>13.236412</td>\n",
       "    </tr>\n",
       "    <tr>\n",
       "      <th>none</th>\n",
       "      <td>15.705689</td>\n",
       "      <td>14.608896</td>\n",
       "      <td>15.041667</td>\n",
       "    </tr>\n",
       "  </tbody>\n",
       "</table>\n",
       "</div>"
      ],
      "text/plain": [
       "                         math score  reading score  writing score\n",
       "test preparation course                                          \n",
       "completed                 14.521847      13.537572      13.236412\n",
       "none                      15.705689      14.608896      15.041667"
      ]
     },
     "execution_count": 51,
     "metadata": {},
     "output_type": "execute_result"
    }
   ],
   "source": [
    "data_test_std =  data.groupby('test preparation course')['math score','reading score','writing score'].std()\n",
    "data_test_std"
   ]
  },
  {
   "cell_type": "markdown",
   "id": "77ddd188",
   "metadata": {},
   "source": [
    "Standard deviation is more for people who have not completed(ie, none category) test preparation course in all the 3 subjects"
   ]
  },
  {
   "cell_type": "markdown",
   "id": "59e525e4",
   "metadata": {},
   "source": [
    "# 5. The management needs your help to give bonus points to the top 25% of students based on their maths score, so how will you help the management to achieve this."
   ]
  },
  {
   "cell_type": "code",
   "execution_count": 54,
   "id": "2146799b",
   "metadata": {},
   "outputs": [
    {
     "data": {
      "text/plain": [
       "515    100\n",
       "516    100\n",
       "517    100\n",
       "996    100\n",
       "997    100\n",
       "      ... \n",
       "428     77\n",
       "429     77\n",
       "849     77\n",
       "850     77\n",
       "851     77\n",
       "Name: math score, Length: 250, dtype: int64"
      ]
     },
     "execution_count": 54,
     "metadata": {},
     "output_type": "execute_result"
    }
   ],
   "source": [
    "data['math score'].nlargest(250)"
   ]
  },
  {
   "cell_type": "code",
   "execution_count": null,
   "id": "36b1a9f5",
   "metadata": {},
   "outputs": [],
   "source": [
    "#finding top 25% of students who scored more in maths"
   ]
  },
  {
   "cell_type": "markdown",
   "id": "29c1facf",
   "metadata": {},
   "source": [
    "finding id of top 25% or 250 people in dataset based on their maths score"
   ]
  }
 ],
 "metadata": {
  "kernelspec": {
   "display_name": "Python 3",
   "language": "python",
   "name": "python3"
  },
  "language_info": {
   "codemirror_mode": {
    "name": "ipython",
    "version": 3
   },
   "file_extension": ".py",
   "mimetype": "text/x-python",
   "name": "python",
   "nbconvert_exporter": "python",
   "pygments_lexer": "ipython3",
   "version": "3.8.8"
  }
 },
 "nbformat": 4,
 "nbformat_minor": 5
}
